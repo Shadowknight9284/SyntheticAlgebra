{
 "cells": [
  {
   "cell_type": "code",
   "execution_count": 2,
   "metadata": {},
   "outputs": [],
   "source": [
    "import random\n",
    "import SymTest\n",
    "import sympy as sp\n",
    "import numpy as np\n",
    "import matplotlib.pyplot as plt"
   ]
  },
  {
   "cell_type": "code",
   "execution_count": 3,
   "metadata": {},
   "outputs": [
    {
     "name": "stdout",
     "output_type": "stream",
     "text": [
      "Sum((2*d + 1)/(2*h**2*(d*(d + 1)/h**2 + 1)*(d*(d + 1)/(h**2*m**2) + 1)), (d, 0, oo))\n"
     ]
    }
   ],
   "source": [
    "# Define the symbols\n",
    "d, h, m = sp.symbols('d h m', real = True)\n",
    "\n",
    "# Define the numerator of the summand\n",
    "numerator = 2 * d + 1\n",
    "\n",
    "# Define the subparts of the denominator\n",
    "subnumerator_1 = d * (d + 1)\n",
    "subdenominator_1 = h**2\n",
    "subdenominator_2 = h**2 * m**2\n",
    "\n",
    "# Create the sub-rational expressions\n",
    "sub_1 = subnumerator_1 / subdenominator_1\n",
    "sub_2 = subnumerator_1 / subdenominator_2\n",
    "\n",
    "# Define the full denominator of the summand\n",
    "denominator = 2 * h**2 * (1 + sub_1) * (1 + sub_2)\n",
    "\n",
    "# Create the rational summand\n",
    "summand = numerator / denominator\n",
    "\n",
    "# Define the left-hand side as an infinite sum\n",
    "lhs = sp.Sum(summand, (d, 0, sp.oo))\n",
    "\n",
    "# Display the summation\n",
    "print(lhs)\n"
   ]
  },
  {
   "cell_type": "code",
   "execution_count": 6,
   "metadata": {},
   "outputs": [
    {
     "ename": "SyntaxError",
     "evalue": "invalid syntax (<lambdifygenerated-3>, line 1)",
     "output_type": "error",
     "traceback": [
      "Traceback \u001b[1;36m(most recent call last)\u001b[0m:\n",
      "\u001b[0m  File \u001b[0;32mc:\\Users\\prana\\OneDrive\\Desktop\\SyntheticAlgebra\\.venv\\Lib\\site-packages\\IPython\\core\\interactiveshell.py:3577\u001b[0m in \u001b[0;35mrun_code\u001b[0m\n    exec(code_obj, self.user_global_ns, self.user_ns)\u001b[0m\n",
      "\u001b[0m  Cell \u001b[0;32mIn[6], line 1\u001b[0m\n    lhs_exp = sp.lambdify([h, m], lhs, modules = 'numpy')\u001b[0m\n",
      "\u001b[1;36m  File \u001b[1;32mc:\\Users\\prana\\OneDrive\\Desktop\\SyntheticAlgebra\\.venv\\Lib\\site-packages\\sympy\\utilities\\lambdify.py:903\u001b[1;36m in \u001b[1;35mlambdify\u001b[1;36m\n\u001b[1;33m    c = compile(funcstr, filename, 'exec')\u001b[1;36m\n",
      "\u001b[1;36m  File \u001b[1;32m<lambdifygenerated-3>:1\u001b[1;36m\u001b[0m\n\u001b[1;33m    def _lambdifygenerated(h, 0.1):\u001b[0m\n\u001b[1;37m                              ^\u001b[0m\n\u001b[1;31mSyntaxError\u001b[0m\u001b[1;31m:\u001b[0m invalid syntax\n"
     ]
    }
   ],
   "source": [
    "\n",
    "\n",
    "\n"
   ]
  },
  {
   "cell_type": "code",
   "execution_count": null,
   "metadata": {},
   "outputs": [],
   "source": []
  }
 ],
 "metadata": {
  "kernelspec": {
   "display_name": ".venv",
   "language": "python",
   "name": "python3"
  },
  "language_info": {
   "codemirror_mode": {
    "name": "ipython",
    "version": 3
   },
   "file_extension": ".py",
   "mimetype": "text/x-python",
   "name": "python",
   "nbconvert_exporter": "python",
   "pygments_lexer": "ipython3",
   "version": "3.12.4"
  }
 },
 "nbformat": 4,
 "nbformat_minor": 2
}
